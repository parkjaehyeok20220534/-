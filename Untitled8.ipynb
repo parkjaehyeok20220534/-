{
  "nbformat": 4,
  "nbformat_minor": 0,
  "metadata": {
    "colab": {
      "provenance": [],
      "authorship_tag": "ABX9TyMdN/yP5l30rHWogUTxivvJ",
      "include_colab_link": true
    },
    "kernelspec": {
      "name": "python3",
      "display_name": "Python 3"
    },
    "language_info": {
      "name": "python"
    }
  },
  "cells": [
    {
      "cell_type": "markdown",
      "metadata": {
        "id": "view-in-github",
        "colab_type": "text"
      },
      "source": [
        "<a href=\"https://colab.research.google.com/github/parkjaehyeok20220534/-/blob/main/Untitled8.ipynb\" target=\"_parent\"><img src=\"https://colab.research.google.com/assets/colab-badge.svg\" alt=\"Open In Colab\"/></a>"
      ]
    },
    {
      "cell_type": "code",
      "execution_count": 2,
      "metadata": {
        "id": "PqoPf0suNqkS"
      },
      "outputs": [],
      "source": [
        "import requests\n",
        "from bs4 import BeautifulSoup as bs\n",
        "import pandas as pd\n",
        "\n",
        "page = requests.get(\"https://library.gabia.com/\")\n",
        "soup = bs(page.text, \"html.parser\")\n",
        "\n",
        "elements = soup.select('div.esg-entry-content a.eg-grant-element-0')\n",
        "\n",
        "titles = []\n",
        "links = []\n",
        "for index, element in enumerate(elements, 1):\n",
        "        titles.append(element.text)\n",
        "        links.append(element.attrs['href'])\n",
        "\n",
        "\n",
        "df = pd.DataFrame()\n",
        "df['titles'] = titles\n",
        "df['links'] = links\n",
        "\n",
        "df.to_excel('./library_gabia.xlsx', sheet_name='Sheet1')"
      ]
    }
  ]
}