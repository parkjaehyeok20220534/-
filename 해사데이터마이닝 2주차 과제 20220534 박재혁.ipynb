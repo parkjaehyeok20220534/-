{
  "nbformat": 4,
  "nbformat_minor": 0,
  "metadata": {
    "colab": {
      "provenance": [],
      "authorship_tag": "ABX9TyPHGX4+L8Vvt4yQOJyLBN+5",
      "include_colab_link": true
    },
    "kernelspec": {
      "name": "python3",
      "display_name": "Python 3"
    },
    "language_info": {
      "name": "python"
    }
  },
  "cells": [
    {
      "cell_type": "markdown",
      "metadata": {
        "id": "view-in-github",
        "colab_type": "text"
      },
      "source": [
        "<a href=\"https://colab.research.google.com/github/parkjaehyeok20220534/-/blob/main/Untitled3.ipynb\" target=\"_parent\"><img src=\"https://colab.research.google.com/assets/colab-badge.svg\" alt=\"Open In Colab\"/></a>"
      ]
    },
    {
      "cell_type": "code",
      "execution_count": 12,
      "metadata": {
        "colab": {
          "base_uri": "https://localhost:8080/"
        },
        "id": "V0tp8QGsZYSd",
        "outputId": "2db13caf-809e-4d97-803d-a72c519c54a2"
      },
      "outputs": [
        {
          "output_type": "stream",
          "name": "stdout",
          "text": [
            "a = [2, 3, 4, 5, 6]\n",
            "rev_a = [6, 5, 4, 3, 2]\n"
          ]
        }
      ],
      "source": [
        "a = [2, 3, 4, 5, 6]\n",
        "rev_a = []\n",
        "print('a =', a)\n",
        "for _ in range(len(a)):\n",
        "    rev_a.append(a.pop())\n",
        "print('rev_a =', rev_a)"
      ]
    },
    {
      "cell_type": "code",
      "source": [
        "tup = 1, 2, 5, 4, 3, 2, 9, 4, 7, 8, 9, 9, 3, 7, 3\n",
        "print('주어진 튜플:', tup)\n",
        "temp = sorted(list(tup))\n",
        "\n",
        "max_count = 1\n",
        "count = 1\n",
        "cur_value = max_value = temp[0]\n",
        "\n",
        "for i in range(1, len(temp)):\n",
        "    if temp[i] == cur_value:\n",
        "        count += 1\n",
        "        if count >= max_count:\n",
        "            max_count = count\n",
        "            max_value = cur_value\n",
        "    else:\n",
        "        cur_value = temp[i]\n",
        "        count = 1\n",
        "\n",
        "print('가장 많이 나타나는 요소는:', max_value)"
      ],
      "metadata": {
        "colab": {
          "base_uri": "https://localhost:8080/"
        },
        "id": "5NHVJvICcLEN",
        "outputId": "da444948-b289-41b9-c300-f916f8f8e521"
      },
      "execution_count": 16,
      "outputs": [
        {
          "output_type": "stream",
          "name": "stdout",
          "text": [
            "주어진 튜플: (1, 2, 5, 4, 3, 2, 9, 4, 7, 8, 9, 9, 3, 7, 3)\n",
            "가장 많이 나타나는 요소는: 9\n"
          ]
        }
      ]
    },
    {
      "cell_type": "code",
      "source": [
        "menu = {\n",
        "    \"Americano\": 3000,\n",
        "    \"Ice Americano\": 3500,\n",
        "    \"Cappuccino\": 4000,\n",
        "    \"Cafe Latte\": 4500,\n",
        "    \"Espresso\": 3600\n",
        "}\n",
        "\n",
        "for key in menu:\n",
        "    print(\"{:}  가격 : {:,}원\".format(key, menu[key]))"
      ],
      "metadata": {
        "colab": {
          "base_uri": "https://localhost:8080/"
        },
        "id": "9gniGu43dUXO",
        "outputId": "c2dd3915-7fb7-4b50-ba8b-85358b2437ab"
      },
      "execution_count": 21,
      "outputs": [
        {
          "output_type": "stream",
          "name": "stdout",
          "text": [
            "Americano  가격 : 3,000원\n",
            "Ice Americano  가격 : 3,500원\n",
            "Cappuccino  가격 : 4,000원\n",
            "Cafe Latte  가격 : 4,500원\n",
            "Espresso  가격 : 3,600원\n"
          ]
        }
      ]
    },
    {
      "cell_type": "code",
      "source": [
        "menu = {\n",
        "    \"Americano\": 3000,\n",
        "    \"Ice Americano\": 3500,\n",
        "    \"Cappuccino\": 4000,\n",
        "    \"Cafe Latte\": 4500,\n",
        "    \"Espresso\": 3600\n",
        "}\n",
        "\n",
        "for key in menu:\n",
        "    print(\"{:}  가격 : {:,}원\".format(key, menu[key]))\n",
        "\n",
        "choice = input('위의 메뉴중 하나를 선택하세요: ')\n",
        "\n",
        "if choice in menu.keys():\n",
        "    print('{}는 {:,}원 입니다. 결제를 부탁합니다.'.format(choice, menu[choice]))\n",
        "else:\n",
        "    print('미안합니다. {}는 메뉴에 없습니다.'.format(choice))"
      ],
      "metadata": {
        "colab": {
          "base_uri": "https://localhost:8080/"
        },
        "id": "snKlTnVpdsP_",
        "outputId": "27483cc4-76a3-401e-e39f-577d4b17cfd4"
      },
      "execution_count": 22,
      "outputs": [
        {
          "output_type": "stream",
          "name": "stdout",
          "text": [
            "Americano  가격 : 3,000원\n",
            "Ice Americano  가격 : 3,500원\n",
            "Cappuccino  가격 : 4,000원\n",
            "Cafe Latte  가격 : 4,500원\n",
            "Espresso  가격 : 3,600원\n",
            "위의 메뉴중 하나를 선택하세요: 아이스라떼\n",
            "미안합니다. 아이스라떼는 메뉴에 없습니다.\n"
          ]
        }
      ]
    }
  ]
}
