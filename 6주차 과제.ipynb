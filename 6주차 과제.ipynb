{
  "nbformat": 4,
  "nbformat_minor": 0,
  "metadata": {
    "colab": {
      "provenance": [],
      "authorship_tag": "ABX9TyMnsodp6k58Q945GwLWsH4l",
      "include_colab_link": true
    },
    "kernelspec": {
      "name": "python3",
      "display_name": "Python 3"
    },
    "language_info": {
      "name": "python"
    }
  },
  "cells": [
    {
      "cell_type": "markdown",
      "metadata": {
        "id": "view-in-github",
        "colab_type": "text"
      },
      "source": [
        "<a href=\"https://colab.research.google.com/github/parkjaehyeok20220534/-/blob/main/6%EC%A3%BC%EC%B0%A8%20%EA%B3%BC%EC%A0%9C.ipynb\" target=\"_parent\"><img src=\"https://colab.research.google.com/assets/colab-badge.svg\" alt=\"Open In Colab\"/></a>"
      ]
    },
    {
      "cell_type": "code",
      "execution_count": 10,
      "metadata": {
        "colab": {
          "base_uri": "https://localhost:8080/"
        },
        "id": "WlVNL0dN6ipC",
        "outputId": "85461528-5b2f-485d-fdf8-146da735b177"
      },
      "outputs": [
        {
          "output_type": "stream",
          "name": "stdout",
          "text": [
            "<class 'pandas.core.frame.DataFrame'>\n",
            "RangeIndex: 87 entries, 0 to 86\n",
            "Data columns (total 6 columns):\n",
            " #   Column                                Non-Null Count  Dtype  \n",
            "---  ------                                --------------  -----  \n",
            " 0   flagCode                              87 non-null     object \n",
            " 1   country                               87 non-null     object \n",
            " 2   YouTubeUsers_TotalUsers_Num_2024Feb   87 non-null     int64  \n",
            " 3   YouTubeUsers_Penetration_Pct_2024Feb  87 non-null     float64\n",
            " 4   YouTubeUsersJuly2023                  87 non-null     float64\n",
            " 5   YouTubeUsersPenetrationJuly2023       87 non-null     float64\n",
            "dtypes: float64(3), int64(1), object(2)\n",
            "memory usage: 4.2+ KB\n",
            "None\n",
            "flagCode                                0\n",
            "country                                 0\n",
            "YouTubeUsers_TotalUsers_Num_2024Feb     0\n",
            "YouTubeUsers_Penetration_Pct_2024Feb    0\n",
            "YouTubeUsersJuly2023                    0\n",
            "YouTubeUsersPenetrationJuly2023         0\n",
            "dtype: int64\n",
            "flagCode                                 object\n",
            "country                                  object\n",
            "YouTubeUsers_TotalUsers_Num_2024Feb       int64\n",
            "YouTubeUsers_Penetration_Pct_2024Feb    float64\n",
            "YouTubeUsersJuly2023                    float64\n",
            "YouTubeUsersPenetrationJuly2023         float64\n",
            "dtype: object\n",
            "       YouTubeUsers_TotalUsers_Num_2024Feb  \\\n",
            "count                         8.700000e+01   \n",
            "mean                          2.821110e+07   \n",
            "std                           5.906624e+07   \n",
            "min                           2.760000e+05   \n",
            "25%                           4.330000e+06   \n",
            "50%                           7.430000e+06   \n",
            "75%                           2.840000e+07   \n",
            "max                           4.620000e+08   \n",
            "\n",
            "       YouTubeUsers_Penetration_Pct_2024Feb  YouTubeUsersJuly2023  \\\n",
            "count                             87.000000             87.000000   \n",
            "mean                              75.111494             29.044023   \n",
            "std                               14.553809             59.831989   \n",
            "min                               24.500000              0.290000   \n",
            "25%                               70.600000              4.405000   \n",
            "50%                               79.200000              7.640000   \n",
            "75%                               83.400000             31.150000   \n",
            "max                               98.200000            467.000000   \n",
            "\n",
            "       YouTubeUsersPenetrationJuly2023  \n",
            "count                        87.000000  \n",
            "mean                         74.678161  \n",
            "std                          18.881481  \n",
            "min                          23.200000  \n",
            "25%                          66.600000  \n",
            "50%                          77.400000  \n",
            "75%                          88.450000  \n",
            "max                         112.300000  \n"
          ]
        }
      ],
      "source": [
        "import pandas as pd\n",
        "import json\n",
        "\n",
        "json_file_path = \"file.json\"\n",
        "\n",
        "with open(json_file_path, \"r\") as f:\n",
        "    json_data = json.load(f)\n",
        "\n",
        "df = pd.DataFrame(json_data)\n",
        "\n",
        "print(df.info())\n",
        "\n",
        "print(df.isnull().sum())\n",
        "\n",
        "print(df.dtypes)\n",
        "\n",
        "print(df.describe())"
      ]
    },
    {
      "cell_type": "code",
      "source": [
        "import pandas as pd\n",
        "import xml.etree.ElementTree as ET\n",
        "\n",
        "xml_file_path =\"/content/Demo_xml.xml\"\n",
        "\n",
        "tree = ET.parse(xml_file_path)\n",
        "\n",
        "root = tree.getroot()\n",
        "\n",
        "elements = root.findall('book')\n",
        "\n",
        "df = pd.DataFrame(columns=[\"Title\", \"Author\", \"Genre\", \"Price\"])\n",
        "\n",
        "for element in elements:\n",
        "  row = {\n",
        "   'Title' : element.find(\"title\").text,\n",
        "   'Author': element.find(\"author\").text,\n",
        "   'Genre' : element.find(\"genre\").text,\n",
        "   'Price' : element.find(\"price\").text\n",
        "   }\n",
        "  new_df = pd.DataFrame([row], columns=df.columns)\n",
        "  df = pd.concat([df, new_df], ignore_index=True)\n",
        "\n",
        "print(df.info())\n",
        "\n",
        "print(df.head())\n"
      ],
      "metadata": {
        "colab": {
          "base_uri": "https://localhost:8080/"
        },
        "id": "lTvQVDPGDWmT",
        "outputId": "859b637f-b250-42d5-d2fb-2f3aa8426b17"
      },
      "execution_count": 17,
      "outputs": [
        {
          "output_type": "stream",
          "name": "stdout",
          "text": [
            "<class 'pandas.core.frame.DataFrame'>\n",
            "RangeIndex: 12 entries, 0 to 11\n",
            "Data columns (total 4 columns):\n",
            " #   Column  Non-Null Count  Dtype \n",
            "---  ------  --------------  ----- \n",
            " 0   Title   12 non-null     object\n",
            " 1   Author  12 non-null     object\n",
            " 2   Genre   12 non-null     object\n",
            " 3   Price   12 non-null     object\n",
            "dtypes: object(4)\n",
            "memory usage: 516.0+ bytes\n",
            "None\n",
            "                   Title                Author     Genre  Price\n",
            "0  XML Developer's Guide  Gambardella, Matthew  Computer  44.95\n",
            "1          Midnight Rain            Ralls, Kim   Fantasy   5.95\n",
            "2        Maeve Ascendant           Corets, Eva   Fantasy   5.95\n",
            "3        Oberon's Legacy           Corets, Eva   Fantasy   5.95\n",
            "4     The Sundered Grail           Corets, Eva   Fantasy   5.95\n"
          ]
        }
      ]
    }
  ]
}