{
  "nbformat": 4,
  "nbformat_minor": 0,
  "metadata": {
    "colab": {
      "provenance": [],
      "authorship_tag": "ABX9TyMQGTJNQGSrk5PmsYbD0f8m",
      "include_colab_link": true
    },
    "kernelspec": {
      "name": "python3",
      "display_name": "Python 3"
    },
    "language_info": {
      "name": "python"
    }
  },
  "cells": [
    {
      "cell_type": "markdown",
      "metadata": {
        "id": "view-in-github",
        "colab_type": "text"
      },
      "source": [
        "<a href=\"https://colab.research.google.com/github/parkjaehyeok20220534/-/blob/main/Untitled5.ipynb\" target=\"_parent\"><img src=\"https://colab.research.google.com/assets/colab-badge.svg\" alt=\"Open In Colab\"/></a>"
      ]
    },
    {
      "cell_type": "code",
      "execution_count": 8,
      "metadata": {
        "colab": {
          "base_uri": "https://localhost:8080/"
        },
        "id": "j0l1-exwrMmN",
        "outputId": "8567bf1e-486a-4427-8f0e-dde702b68d95"
      },
      "outputs": [
        {
          "output_type": "stream",
          "name": "stdout",
          "text": [
            "          2007       2008       2009   2010       2011\n",
            "China     7.71   7.950000  11.960000  15.84  16.330000\n",
            "EU       19.02  17.710000  15.000000  16.70  17.480000\n",
            "US       10.47   8.450000   5.580000   7.60   8.400000\n",
            "Japan    10.87  10.830000   7.550000   9.09   7.880000\n",
            "Korea     4.04   3.780000   3.450000   4.20   4.620000\n",
            "Mexico    2.01   2.050000   1.500000   2.25   2.540000\n",
            "Total    54.12  50.770000  45.040000  55.68  57.250000\n",
            "Average   9.02   8.461667   7.506667   9.28   9.541667\n"
          ]
        }
      ],
      "source": [
        "import pandas as pd\n",
        "import numpy as np\n",
        "\n",
        "# github의 자동차 생산 자료를 읽어들인다\n",
        "path = 'https://github.com/dongupak/DataML/raw/main/csv/'\n",
        "file = path+'vehicle_prod.csv'\n",
        "df = pd.read_csv(file, index_col=0)\n",
        "\n",
        "# 숫자 데이터만 선택하여 합계와 평균 계산\n",
        "sums = df.select_dtypes(np.number).sum().rename('Total')\n",
        "averages = df.select_dtypes(np.number).mean().rename('Average')\n",
        "\n",
        "# 시리즈를 데이터프레임으로 변환\n",
        "sums_df = pd.DataFrame(sums).T\n",
        "averages_df = pd.DataFrame(averages).T\n",
        "\n",
        "# 원본 데이터프레임에 Total과 Average 행 추가\n",
        "total_df = pd.concat([df, sums_df, averages_df])\n",
        "\n",
        "print(total_df)"
      ]
    },
    {
      "cell_type": "code",
      "source": [
        "import pandas as pd\n",
        "import numpy as np\n",
        "import matplotlib.pyplot as plt\n",
        "\n",
        "path = 'https://github.com/dongupak/DataML/raw/main/csv/'\n",
        "weather_file = path + 'weather.csv'\n",
        "weather = pd.read_csv(weather_file, encoding='CP949')\n",
        "\n",
        "# '일시'에서 월 추출\n",
        "weather['month'] = pd.DatetimeIndex(weather['일시']).month\n",
        "\n",
        "# 월별 평균 기온 계산\n",
        "monthly_wind = [0 for _ in range(12)]  # 12개 0으로 초기화\n",
        "for i in range(12):\n",
        "    monthly_data = weather[weather['month'] == i + 1]\n",
        "    monthly_wind[i] = monthly_data['평균풍속'].mean()\n",
        "\n",
        "# 그래프 그리기\n",
        "months = np.arange(1, 13)\n",
        "plt.bar(months, monthly_wind, color='green')\n",
        "plt.xlabel('Month')\n",
        "plt.ylabel('wind')\n",
        "plt.show()\n"
      ],
      "metadata": {
        "colab": {
          "base_uri": "https://localhost:8080/",
          "height": 449
        },
        "id": "SqZ7SWezyMqQ",
        "outputId": "f3539be3-8184-4bbf-d32d-82f906129968"
      },
      "execution_count": 20,
      "outputs": [
        {
          "output_type": "display_data",
          "data": {
            "text/plain": [
              "<Figure size 640x480 with 1 Axes>"
            ],
            "image/png": "[encoded data removed]"
          },
          "metadata": {}
        }
      ]
    }
  ]
}